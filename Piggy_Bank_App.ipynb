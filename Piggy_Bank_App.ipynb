{
 "cells": [
  {
   "cell_type": "code",
   "execution_count": 1,
   "metadata": {},
   "outputs": [
    {
     "name": "stdout",
     "output_type": "stream",
     "text": [
      "------------------------------ Start ------------------------------\n",
      "Start or End :Start\n",
      "Add,Withdraw,Check :Add\n",
      "Add amount :1000\n",
      "After Adding your updated balance is  1000.0\n",
      "------------------------------ Start ------------------------------\n",
      "Start or End :Start\n",
      "Add,Withdraw,Check :Withdraw\n",
      "Withdraw amount :100\n",
      "After withdrawing your updated balance is  900.0\n",
      "------------------------------ Start ------------------------------\n",
      "Start or End :Start\n",
      "Add,Withdraw,Check :Check\n",
      "YOur current balance is  900.0\n",
      "------------------------------ Start ------------------------------\n",
      "Start or End :End\n",
      "Thank  for Visting Piggy Bank.Have  Nice Day!!!!\n"
     ]
    }
   ],
   "source": [
    "# -*- coding: utf-8 -*-\n",
    "\"\"\"\n",
    "Created on Sat Apr  18 05:18:26 2020\n",
    "\n",
    "@author: Kumaravel\n",
    "\"\"\"\n",
    "\n",
    "def Piggy_bank():\n",
    "    print('-'*30,\"Start\",'-'*30)    \n",
    "  \n",
    "    a= input(\"Start or End :\")\n",
    "    \n",
    "    \n",
    "    if (a == \"Start\"):\n",
    "        options = input(\"Add,Withdraw,Check :\")\n",
    "        \n",
    "        piggy_bank_action(options)\n",
    "    elif (a == \"End\"):\n",
    "        print(\"Thank  for Visting Piggy Bank.Have  Nice Day!!!!\")\n",
    "    else:\n",
    "        print(\"PLease enter Correct Choice  \")\n",
    "        Piggy_bank()\n",
    "            \n",
    "        \n",
    "        \n",
    "        \n",
    "def piggy_bank_action(options):\n",
    " \n",
    "    \n",
    "     global init_bal   \n",
    "     \n",
    "     if options == \"Add\":\n",
    "           \n",
    "           init_bal =0\n",
    "           inp_bal =int(input(\"Add amount :\"))\n",
    "           Balance = inp_bal+init_bal\n",
    "           init_bal = Balance\n",
    "           \n",
    "           print (\"After Adding your updated balance is \" ,float(init_bal))\n",
    "           Piggy_bank()\n",
    "          \n",
    "    \n",
    "     elif options == \"Withdraw\":\n",
    "           \n",
    "            inp_bal =int(input(\"Withdraw amount :\"))\n",
    "            Balance = init_bal-inp_bal\n",
    "            init_bal = Balance\n",
    "            \n",
    "            print (\"After withdrawing your updated balance is \" ,float(init_bal))\n",
    "            Piggy_bank()\n",
    "\n",
    "     elif options == \"Check\":\n",
    "       print(\"YOur current balance is \", float(init_bal))\n",
    "       Piggy_bank()\n",
    "       \n",
    "     else :\n",
    "         print(\"PLease enter correct Choice \")\n",
    "         Piggy_bank()\n",
    "    \n",
    "Piggy_bank()"
   ]
  },
  {
   "cell_type": "code",
   "execution_count": null,
   "metadata": {},
   "outputs": [],
   "source": []
  }
 ],
 "metadata": {
  "kernelspec": {
   "display_name": "Python 3",
   "language": "python",
   "name": "python3"
  },
  "language_info": {
   "codemirror_mode": {
    "name": "ipython",
    "version": 3
   },
   "file_extension": ".py",
   "mimetype": "text/x-python",
   "name": "python",
   "nbconvert_exporter": "python",
   "pygments_lexer": "ipython3",
   "version": "3.7.6"
  }
 },
 "nbformat": 4,
 "nbformat_minor": 4
}
